{
  "nbformat": 4,
  "nbformat_minor": 0,
  "metadata": {
    "colab": {
      "name": "Data102(Chapter2).ipynb",
      "provenance": [],
      "authorship_tag": "ABX9TyPDJFFD1UQmye4flui6Y1PO",
      "include_colab_link": true
    },
    "kernelspec": {
      "name": "python3",
      "display_name": "Python 3"
    },
    "language_info": {
      "name": "python"
    }
  },
  "cells": [
    {
      "cell_type": "markdown",
      "metadata": {
        "id": "view-in-github",
        "colab_type": "text"
      },
      "source": [
        "<a href=\"https://colab.research.google.com/github/Khamsaen2489/DWDM21/blob/main/Data102(Chapter2).ipynb\" target=\"_parent\"><img src=\"https://colab.research.google.com/assets/colab-badge.svg\" alt=\"Open In Colab\"/></a>"
      ]
    },
    {
      "cell_type": "code",
      "metadata": {
        "id": "AdnGctEEJ50A"
      },
      "source": [
        "import pandas as pd # "
      ],
      "execution_count": 1,
      "outputs": []
    },
    {
      "cell_type": "code",
      "metadata": {
        "colab": {
          "base_uri": "https://localhost:8080/"
        },
        "id": "HWo2GNoWO-QD",
        "outputId": "af612484-0737-471d-9ce3-7da1358c2bd4"
      },
      "source": [
        "from google.colab import drive\n",
        "drive.mount('/content/drive')"
      ],
      "execution_count": 9,
      "outputs": [
        {
          "output_type": "stream",
          "text": [
            "Drive already mounted at /content/drive; to attempt to forcibly remount, call drive.mount(\"/content/drive\", force_remount=True).\n"
          ],
          "name": "stdout"
        }
      ]
    },
    {
      "cell_type": "code",
      "metadata": {
        "colab": {
          "base_uri": "https://localhost:8080/"
        },
        "id": "0JpAuE7SQ2pJ",
        "outputId": "60195f51-21a4-445b-c2e4-9054b72f3311"
      },
      "source": [
        "ls"
      ],
      "execution_count": 10,
      "outputs": [
        {
          "output_type": "stream",
          "text": [
            "\u001b[0m\u001b[01;34mdrive\u001b[0m/  \u001b[01;34msample_data\u001b[0m/\n"
          ],
          "name": "stdout"
        }
      ]
    },
    {
      "cell_type": "code",
      "metadata": {
        "id": "gbTGqiK7Rhgy"
      },
      "source": [
        "import os # จัดการไฟล์และ path"
      ],
      "execution_count": 11,
      "outputs": []
    },
    {
      "cell_type": "code",
      "metadata": {
        "id": "g23KZfZCBZ9x"
      },
      "source": [
        "path = '/content/drive/My Drive/DWDM2021_DATA'"
      ],
      "execution_count": 12,
      "outputs": []
    },
    {
      "cell_type": "code",
      "metadata": {
        "id": "AVOZUf_gBbPu",
        "outputId": "bfe0bcac-c798-4e53-80b3-9b4a0135be8f",
        "colab": {
          "base_uri": "https://localhost:8080/",
          "height": 779
        }
      },
      "source": [
        "data = pd.read_csv(os.path.join(path,'confirmed-cases .csv'))\n",
        "data"
      ],
      "execution_count": 13,
      "outputs": [
        {
          "output_type": "execute_result",
          "data": {
            "text/html": [
              "<div>\n",
              "<style scoped>\n",
              "    .dataframe tbody tr th:only-of-type {\n",
              "        vertical-align: middle;\n",
              "    }\n",
              "\n",
              "    .dataframe tbody tr th {\n",
              "        vertical-align: top;\n",
              "    }\n",
              "\n",
              "    .dataframe thead th {\n",
              "        text-align: right;\n",
              "    }\n",
              "</style>\n",
              "<table border=\"1\" class=\"dataframe\">\n",
              "  <thead>\n",
              "    <tr style=\"text-align: right;\">\n",
              "      <th></th>\n",
              "      <th>No.</th>\n",
              "      <th>announce_date</th>\n",
              "      <th>Notified date</th>\n",
              "      <th>sex</th>\n",
              "      <th>age</th>\n",
              "      <th>Unit</th>\n",
              "      <th>nationality</th>\n",
              "      <th>province_of_isolation</th>\n",
              "      <th>risk</th>\n",
              "      <th>province_of_onset</th>\n",
              "      <th>district_of_onset</th>\n",
              "    </tr>\n",
              "  </thead>\n",
              "  <tbody>\n",
              "    <tr>\n",
              "      <th>0</th>\n",
              "      <td>1.0</td>\n",
              "      <td>12/1/2020</td>\n",
              "      <td>NaN</td>\n",
              "      <td>หญิง</td>\n",
              "      <td>61.0</td>\n",
              "      <td>ปี</td>\n",
              "      <td>China</td>\n",
              "      <td>กรุงเทพมหานคร</td>\n",
              "      <td>คนต่างชาติเดินทางมาจากต่างประเทศ</td>\n",
              "      <td>กรุงเทพมหานคร</td>\n",
              "      <td>NaN</td>\n",
              "    </tr>\n",
              "    <tr>\n",
              "      <th>1</th>\n",
              "      <td>2.0</td>\n",
              "      <td>17/1/2020</td>\n",
              "      <td>NaN</td>\n",
              "      <td>หญิง</td>\n",
              "      <td>74.0</td>\n",
              "      <td>ปี</td>\n",
              "      <td>China</td>\n",
              "      <td>กรุงเทพมหานคร</td>\n",
              "      <td>คนต่างชาติเดินทางมาจากต่างประเทศ</td>\n",
              "      <td>กรุงเทพมหานคร</td>\n",
              "      <td>NaN</td>\n",
              "    </tr>\n",
              "    <tr>\n",
              "      <th>2</th>\n",
              "      <td>3.0</td>\n",
              "      <td>22/1/2020</td>\n",
              "      <td>NaN</td>\n",
              "      <td>หญิง</td>\n",
              "      <td>73.0</td>\n",
              "      <td>ปี</td>\n",
              "      <td>Thailand</td>\n",
              "      <td>นครปฐม</td>\n",
              "      <td>คนต่างชาติเดินทางมาจากต่างประเทศ</td>\n",
              "      <td>นครปฐม</td>\n",
              "      <td>เมือง</td>\n",
              "    </tr>\n",
              "    <tr>\n",
              "      <th>3</th>\n",
              "      <td>4.0</td>\n",
              "      <td>22/1/2020</td>\n",
              "      <td>NaN</td>\n",
              "      <td>ชาย</td>\n",
              "      <td>68.0</td>\n",
              "      <td>ปี</td>\n",
              "      <td>China</td>\n",
              "      <td>กรุงเทพมหานคร</td>\n",
              "      <td>คนต่างชาติเดินทางมาจากต่างประเทศ</td>\n",
              "      <td>กรุงเทพมหานคร</td>\n",
              "      <td>NaN</td>\n",
              "    </tr>\n",
              "    <tr>\n",
              "      <th>4</th>\n",
              "      <td>5.0</td>\n",
              "      <td>24/1/2020</td>\n",
              "      <td>NaN</td>\n",
              "      <td>หญิง</td>\n",
              "      <td>66.0</td>\n",
              "      <td>ปี</td>\n",
              "      <td>China</td>\n",
              "      <td>นนทบุรี</td>\n",
              "      <td>คนต่างชาติเดินทางมาจากต่างประเทศ</td>\n",
              "      <td>กรุงเทพมหานคร</td>\n",
              "      <td>NaN</td>\n",
              "    </tr>\n",
              "    <tr>\n",
              "      <th>...</th>\n",
              "      <td>...</td>\n",
              "      <td>...</td>\n",
              "      <td>...</td>\n",
              "      <td>...</td>\n",
              "      <td>...</td>\n",
              "      <td>...</td>\n",
              "      <td>...</td>\n",
              "      <td>...</td>\n",
              "      <td>...</td>\n",
              "      <td>...</td>\n",
              "      <td>...</td>\n",
              "    </tr>\n",
              "    <tr>\n",
              "      <th>543301</th>\n",
              "      <td>543302.0</td>\n",
              "      <td>28/7/2021</td>\n",
              "      <td>27/7/2021</td>\n",
              "      <td>ชาย</td>\n",
              "      <td>39.0</td>\n",
              "      <td>ปี</td>\n",
              "      <td>NaN</td>\n",
              "      <td>สุพรรณบุรี</td>\n",
              "      <td>ทัณฑสถาน/เรือนจำ</td>\n",
              "      <td>สุพรรณบุรี</td>\n",
              "      <td>NaN</td>\n",
              "    </tr>\n",
              "    <tr>\n",
              "      <th>543302</th>\n",
              "      <td>543303.0</td>\n",
              "      <td>28/7/2021</td>\n",
              "      <td>27/7/2021</td>\n",
              "      <td>ชาย</td>\n",
              "      <td>37.0</td>\n",
              "      <td>ปี</td>\n",
              "      <td>NaN</td>\n",
              "      <td>สุพรรณบุรี</td>\n",
              "      <td>ทัณฑสถาน/เรือนจำ</td>\n",
              "      <td>สุพรรณบุรี</td>\n",
              "      <td>NaN</td>\n",
              "    </tr>\n",
              "    <tr>\n",
              "      <th>543303</th>\n",
              "      <td>543304.0</td>\n",
              "      <td>28/7/2021</td>\n",
              "      <td>27/7/2021</td>\n",
              "      <td>ชาย</td>\n",
              "      <td>28.0</td>\n",
              "      <td>ปี</td>\n",
              "      <td>NaN</td>\n",
              "      <td>สุพรรณบุรี</td>\n",
              "      <td>ทัณฑสถาน/เรือนจำ</td>\n",
              "      <td>สุพรรณบุรี</td>\n",
              "      <td>NaN</td>\n",
              "    </tr>\n",
              "    <tr>\n",
              "      <th>543304</th>\n",
              "      <td>543305.0</td>\n",
              "      <td>28/7/2021</td>\n",
              "      <td>27/7/2021</td>\n",
              "      <td>ชาย</td>\n",
              "      <td>26.0</td>\n",
              "      <td>ปี</td>\n",
              "      <td>NaN</td>\n",
              "      <td>ปัตตานี</td>\n",
              "      <td>ทัณฑสถาน/เรือนจำ</td>\n",
              "      <td>ปัตตานี</td>\n",
              "      <td>NaN</td>\n",
              "    </tr>\n",
              "    <tr>\n",
              "      <th>543305</th>\n",
              "      <td>NaN</td>\n",
              "      <td>NaN</td>\n",
              "      <td>NaN</td>\n",
              "      <td>NaN</td>\n",
              "      <td>NaN</td>\n",
              "      <td>NaN</td>\n",
              "      <td>NaN</td>\n",
              "      <td>NaN</td>\n",
              "      <td>NaN</td>\n",
              "      <td>NaN</td>\n",
              "      <td>NaN</td>\n",
              "    </tr>\n",
              "  </tbody>\n",
              "</table>\n",
              "<p>543306 rows × 11 columns</p>\n",
              "</div>"
            ],
            "text/plain": [
              "             No. announce_date  ... province_of_onset district_of_onset\n",
              "0            1.0     12/1/2020  ...     กรุงเทพมหานคร               NaN\n",
              "1            2.0     17/1/2020  ...     กรุงเทพมหานคร               NaN\n",
              "2            3.0     22/1/2020  ...            นครปฐม             เมือง\n",
              "3            4.0     22/1/2020  ...     กรุงเทพมหานคร               NaN\n",
              "4            5.0     24/1/2020  ...     กรุงเทพมหานคร               NaN\n",
              "...          ...           ...  ...               ...               ...\n",
              "543301  543302.0     28/7/2021  ...        สุพรรณบุรี               NaN\n",
              "543302  543303.0     28/7/2021  ...        สุพรรณบุรี               NaN\n",
              "543303  543304.0     28/7/2021  ...        สุพรรณบุรี               NaN\n",
              "543304  543305.0     28/7/2021  ...           ปัตตานี               NaN\n",
              "543305       NaN           NaN  ...               NaN               NaN\n",
              "\n",
              "[543306 rows x 11 columns]"
            ]
          },
          "metadata": {
            "tags": []
          },
          "execution_count": 13
        }
      ]
    },
    {
      "cell_type": "markdown",
      "metadata": {
        "id": "7rkCd_BlKUuy"
      },
      "source": [
        "##NaN = Not aNumber (ช่องว่าง)"
      ]
    },
    {
      "cell_type": "code",
      "metadata": {
        "id": "QhDdYJJoKdYG"
      },
      "source": [
        "data."
      ],
      "execution_count": null,
      "outputs": []
    },
    {
      "cell_type": "markdown",
      "metadata": {
        "id": "35cL4vuEKmDQ"
      },
      "source": [
        "ถึงตรงนี้นะไม่ทัน0000000000000000000000"
      ]
    },
    {
      "cell_type": "markdown",
      "metadata": {
        "id": "K_hvfFCSKqfA"
      },
      "source": [
        "เริ่มอันใหม่นะ"
      ]
    },
    {
      "cell_type": "markdown",
      "metadata": {
        "id": "7gXk0-X7Ks5n"
      },
      "source": [
        "##Boxpolt\n",
        "![download.png](data:image/png;base64,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)"
      ]
    },
    {
      "cell_type": "markdown",
      "metadata": {
        "id": "vakH0tz-QN9o"
      },
      "source": [
        "from matplotlib imprt pyp"
      ]
    },
    {
      "cell_type": "code",
      "metadata": {
        "id": "ReqSIG5ULzKg"
      },
      "source": [
        ""
      ],
      "execution_count": null,
      "outputs": []
    }
  ]
}